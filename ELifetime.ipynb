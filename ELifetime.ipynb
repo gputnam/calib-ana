{
 "cells": [
  {
   "cell_type": "code",
   "execution_count": null,
   "id": "44aaf0d7",
   "metadata": {},
   "outputs": [],
   "source": [
    "%load_ext autoreload\n",
    "%autoreload 2\n",
    "\n",
    "import uproot\n",
    "import matplotlib.pyplot as plt\n",
    "import matplotlib.colors as colors\n",
    "import matplotlib.cbook as cbook\n",
    "import numpy as np\n",
    "import pandas as pd\n",
    "from decimal import Decimal\n",
    "from scipy.stats import norm\n",
    "from scipy.optimize import curve_fit\n",
    "from scipy import stats, interpolate\n",
    "import scipy\n",
    "import warnings\n",
    "import datetime as dt\n",
    "import landau\n",
    "\n",
    "import importlib\n",
    "\n",
    "# local imports\n",
    "from lib.constants import *\n",
    "\n",
    "from scipy.integrate import quad, tplquad\n",
    "from scipy.special import erf\n",
    "from scipy.interpolate import CubicSpline"
   ]
  },
  {
   "cell_type": "code",
   "execution_count": null,
   "id": "0930a7b5",
   "metadata": {},
   "outputs": [],
   "source": [
    "dosave = False\n",
    "savedir = \"./\"\n",
    "plt.rcParams.update({'font.size': 14})\n",
    "plotqual = \"_mc\"\n",
    "plottitle = \"MC\"\n",
    "tpcnames = [\"EE\", \"EW\", \"WE\", \"WW\"]"
   ]
  },
  {
   "cell_type": "code",
   "execution_count": null,
   "id": "a6e01e50",
   "metadata": {},
   "outputs": [],
   "source": [
    "perhit_df = pd.read_hdf(\"data.df\")"
   ]
  },
  {
   "cell_type": "code",
   "execution_count": null,
   "id": "d4fd2517",
   "metadata": {},
   "outputs": [],
   "source": [
    "perhit_df"
   ]
  },
  {
   "cell_type": "code",
   "execution_count": null,
   "id": "6bbe17ae",
   "metadata": {},
   "outputs": [],
   "source": [
    "NCHUNK = 10"
   ]
  },
  {
   "cell_type": "code",
   "execution_count": null,
   "id": "56d65919",
   "metadata": {},
   "outputs": [],
   "source": [
    "perhit_df[\"tpcEE\"] = perhit_df.tpcE & (perhit_df.cryostat == 0)\n",
    "perhit_df[\"tpcEW\"] = perhit_df.tpcW & (perhit_df.cryostat == 0)\n",
    "perhit_df[\"tpcWE\"] = perhit_df.tpcE & (perhit_df.cryostat == 1)\n",
    "perhit_df[\"tpcWW\"] = perhit_df.tpcW & (perhit_df.cryostat == 1)\n",
    "\n",
    "perhit_df[\"dqdx\"] = perhit_df.charge / perhit_df.true_pitch\n",
    "perhit_df[\"true_dedx\"] = perhit_df.true_e / perhit_df.true_pitch\n",
    "perhit_df[\"thit\"] = (perhit_df.time * tick_period - perhit_df.pandora_t0 - tanode*tick_period) / 1000.\n"
   ]
  },
  {
   "cell_type": "code",
   "execution_count": null,
   "id": "0b87bce2",
   "metadata": {},
   "outputs": [],
   "source": [
    "def landau_gaus(X, *p):\n",
    "    mpv, eta, sigma, A = p\n",
    "    sigma = np.minimum(sigma, 100*eta)\n",
    "    return landau.landau.gauss_landau(X, mpv, eta, sigma, A)\n"
   ]
  },
  {
   "cell_type": "code",
   "execution_count": null,
   "id": "84bd1d9b",
   "metadata": {},
   "outputs": [],
   "source": [
    "tbins = np.linspace(0, 1000, 21)\n",
    "tbins = tbins[:-1]\n",
    "tcenters = (tbins[1:] + tbins[:-1])/2.\n",
    "\n",
    "qbins = np.linspace(100, 4000, 39*4+1)\n",
    "qbin_centers = (qbins[1:] + qbins[:-1]) / 2.\n",
    "\n",
    "when = (perhit_df.pitch < 0.4*NCHUNK)\n",
    "tpcs = [perhit_df.tpcEE, perhit_df.tpcEW, perhit_df.tpcWE, perhit_df.tpcWW]"
   ]
  },
  {
   "cell_type": "code",
   "execution_count": null,
   "id": "f419664a",
   "metadata": {},
   "outputs": [],
   "source": [
    "Means = {}\n",
    "MPVs = {}\n",
    "MPV_errs = {}\n",
    "locs = {}\n",
    "loc_errs = {}\n",
    "\n",
    "etas = {}\n",
    "sigmas = {}\n",
    "\n",
    "for tpc in tpcnames:\n",
    "    Means[tpc] = []\n",
    "    MPVs[tpc] = []\n",
    "    MPV_errs[tpc] = []\n",
    "    locs[tpc] = []\n",
    "    loc_errs[tpc] = []\n",
    "    etas[tpc] = []\n",
    "    sigmas[tpc] = []\n",
    "    \n",
    "\n",
    "iplt = 0\n",
    "for tpc, tname in zip(tpcs, tpcnames):\n",
    "    for i, (blo, bhi) in enumerate(zip(tbins[:-1], tbins[1:])):\n",
    "        plt.figure(iplt)\n",
    "        thiswhen = tpc & when & (perhit_df.thit > blo) & (perhit_df.thit < bhi)\n",
    "\n",
    "        N,_,_ = plt.hist(perhit_df.dqdx[thiswhen], bins=qbins)\n",
    "\n",
    "        maxbin = np.argmax(N)\n",
    "        when_fit = np.abs(np.array(range(len(qbin_centers))) - maxbin) < 15 # within 15 bins\n",
    "\n",
    "        mpv_lo = 500\n",
    "        mpv_hi = 1000\n",
    "        mpv0 = 750\n",
    "        p0 = [mpv0, 50, 50, np.max(N)*400.]\n",
    "        bounds = ([mpv_lo, 10, 10, np.max(N)*400./100.], [mpv_hi, 250, 250, np.max(N)*400.*100.])\n",
    "        popt, perr = curve_fit(landau_gaus, qbin_centers[when_fit], N[when_fit], \n",
    "                               p0=p0, maxfev=10_000, sigma=np.maximum(np.sqrt(N),1)[when_fit], bounds=bounds)\n",
    "\n",
    "        plt.plot(qbin_centers, landau_gaus(qbin_centers, *popt), \n",
    "                 label=\"Fit\")\n",
    "        mpv = popt[0] - 0.228*popt[1]\n",
    "\n",
    "        plt.text(0.45, 0.175, \"%i Wire\\n%.0f < time < %.0f $\\\\mu$s\\n\\nMPV = %.2f ADDC/cm\\n$\\\\mu$ = %.2f ADDC/cm\\n\\n$\\eta$ = %.2f ADDC/cm\\n$\\sigma$ = %.2f ADDC/cm\" %\n",
    "                 tuple([NCHUNK, blo, bhi, mpv] + list(popt[:3])),\n",
    "                 fontsize=14, transform=plt.gca().transAxes)\n",
    "        plt.xlim([0, 3000])\n",
    "        plt.xlabel(\"dQ/dx [ADDC/cm]\")\n",
    "        plt.ylabel(\"Entries\")\n",
    "        plt.title(plottitle + \" TPC \" + tname)\n",
    "        plt.tight_layout()\n",
    "\n",
    "        if dosave:\n",
    "            plt.savefig(savedir + \"%iwire_t_%i_%i_dqdx_TPC%s%s.png\" % (NCHUNK, int(blo), int(bhi), tname, plotqual))\n",
    "\n",
    "        Means[tname].append(np.mean(stats.trim1(perhit_df.dqdx[thiswhen], 0.2)))\n",
    "        MPVs[tname].append(popt[0] - 0.228*popt[1])\n",
    "        MPV_errs[tname].append(np.sqrt(np.diag(perr)[0] + (0.228**2)*np.diag(perr)[1] - 0.228*(perr[0,1] + perr[1,0])))\n",
    "\n",
    "        locs[tname].append(popt[0])\n",
    "        loc_errs[tname].append(np.sqrt(np.diag(perr))[0])\n",
    "\n",
    "        etas[tname].append(popt[1])\n",
    "        sigmas[tname].append(popt[2])\n",
    "        \n",
    "        iplt += 1\n",
    "    \n",
    "for tpc in tpcnames:\n",
    "    Means[tpc] = np.array(Means[tpc])\n",
    "    MPVs[tpc] = np.array(MPVs[tpc])\n",
    "    MPV_errs[tpc] = np.array(MPV_errs[tpc])\n",
    "    locs[tpc] = np.array(locs[tpc])\n",
    "    loc_errs[tpc] = np.array(loc_errs[tpc])\n",
    "    etas[tpc] = np.array(etas[tpc])\n",
    "    sigmas[tpc] = np.array(sigmas[tpc])"
   ]
  },
  {
   "cell_type": "code",
   "execution_count": null,
   "id": "5b0768cf",
   "metadata": {},
   "outputs": [],
   "source": [
    "whent = (tcenters > 100) & (tcenters < 900)"
   ]
  },
  {
   "cell_type": "code",
   "execution_count": null,
   "id": "306ae023",
   "metadata": {},
   "outputs": [],
   "source": [
    "def lifetime(t, Q0, tau):\n",
    "    return Q0*np.exp(-t/tau)\n",
    "\n",
    "p0 = [500, 3e3]\n",
    "bounds = ([0.0, 0.0], [1500., 10e3])"
   ]
  },
  {
   "cell_type": "code",
   "execution_count": null,
   "id": "5202d3e4",
   "metadata": {},
   "outputs": [],
   "source": [
    "for i,tpc in enumerate(tpcnames):\n",
    "    plt.figure(i)\n",
    "    plt.errorbar(tcenters[whent], MPVs[tpc][whent], yerr=MPV_errs[tpc][whent], label=\"Data\")\n",
    "    \n",
    "    popt, perr = curve_fit(lifetime, tcenters[whent], MPVs[tpc][whent], \n",
    "                       p0=p0, maxfev=10_000, sigma=MPV_errs[tpc][whent], bounds=bounds)\n",
    "    plt.plot(tcenters[whent], lifetime(tcenters[whent], *popt), label=\"Fit\")\n",
    "    plt.text(0.05, 0.05, \"$\\\\tau = %.0f \\\\pm %.0f \\\\mu$s\" % (popt[1], np.sqrt(np.diag(perr))[1]),\n",
    "            fontsize=16, transform=plt.gca().transAxes)\n",
    "    \n",
    "    plt.xlabel(\"Hit Time [$\\\\mu$s]\")\n",
    "    plt.ylabel(\"MPV dE/dx [MeV/cm]\")\n",
    "    plt.title(plottitle + \" TPC \" + tpc + \" %i-Wire\" % NCHUNK)\n",
    "    plt.tight_layout()\n",
    "    if dosave: plt.savefig(savedir + \"%iwire_MPVdqdx_time_TPC%s%s.png\" % (NCHUNK, tpc, plotqual))"
   ]
  },
  {
   "cell_type": "code",
   "execution_count": null,
   "id": "fc8c4943",
   "metadata": {},
   "outputs": [],
   "source": [
    "for i, tpc in enumerate(tpcnames):\n",
    "    plt.figure(i)\n",
    "    plt.plot(tcenters[whent], Means[tpc][whent])\n",
    "    plt.xlabel(\"Hit Time [$\\\\mu$s]\")\n",
    "    plt.ylabel(\"Mean dQ/dx [ADDC/cm]\")\n",
    "    plt.title(plottitle + \" TPC \" + tpc + \" %i-Wire\" % NCHUNK)\n",
    "    plt.tight_layout()\n",
    "    if dosave: plt.savefig(savedir + \"%iwire_Meandqdx_time_TPC%s%s.png\" % (NCHUNK, tpc, plotqual))"
   ]
  },
  {
   "cell_type": "code",
   "execution_count": null,
   "id": "ff3c4e50",
   "metadata": {},
   "outputs": [],
   "source": [
    "for i, tpc in enumerate(tpcnames):\n",
    "    plt.figure(i)\n",
    "    plt.plot(tcenters[whent], sigmas[tpc][whent])\n",
    "    plt.xlabel(\"Hit Time [$\\\\mu$s]\")\n",
    "    plt.ylabel(\"Fit $\\\\sigma$ [ADDC/cm]\")\n",
    "    plt.title(plottitle + \" TPC \" + tpc + \" %i-Wire\" % NCHUNK)\n",
    "    plt.tight_layout()\n",
    "    if dosave: plt.savefig(savedir + \"%iwire_sigma_time_TPC%s%s.png\" % (NCHUNK, tpc, plotqual))"
   ]
  },
  {
   "cell_type": "code",
   "execution_count": null,
   "id": "bd2820e2",
   "metadata": {},
   "outputs": [],
   "source": [
    "for i, tpc in enumerate(tpcnames):\n",
    "    plt.figure(i)\n",
    "    plt.plot(tcenters[whent], etas[tpc][whent])\n",
    "    plt.xlabel(\"Hit Time [$\\\\mu$s]\")\n",
    "    plt.ylabel(\"Fit $\\\\eta$ [ADDC/cm]\")\n",
    "    plt.title(plottitle + \" TPC \" + tpc + \" %i-Wire\" % NCHUNK)\n",
    "    plt.tight_layout()\n",
    "    if dosave: plt.savefig(savedir + \"%iwire_eta_time_TPC%s%s.png\" % (NCHUNK, tpc, plotqual))"
   ]
  }
 ],
 "metadata": {
  "kernelspec": {
   "display_name": "Python 3 (ipykernel)",
   "language": "python",
   "name": "python3"
  },
  "language_info": {
   "codemirror_mode": {
    "name": "ipython",
    "version": 3
   },
   "file_extension": ".py",
   "mimetype": "text/x-python",
   "name": "python",
   "nbconvert_exporter": "python",
   "pygments_lexer": "ipython3",
   "version": "3.9.9"
  }
 },
 "nbformat": 4,
 "nbformat_minor": 5
}
